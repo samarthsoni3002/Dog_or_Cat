{
 "cells": [
  {
   "cell_type": "code",
   "execution_count": 11,
   "id": "fbfdb9f2",
   "metadata": {},
   "outputs": [],
   "source": [
    "from fastai.vision.all import *\n",
    "from fastai.vision.widgets import *\n",
    "from ipywidgets import *\n",
    "learn_inf = load_learner('export.pkl')"
   ]
  },
  {
   "cell_type": "code",
   "execution_count": 12,
   "id": "f93251b8",
   "metadata": {},
   "outputs": [
    {
     "data": {
      "text/html": [
       "\n",
       "<style>\n",
       "    /* Turns off some styling */\n",
       "    progress {\n",
       "        /* gets rid of default border in Firefox and Opera. */\n",
       "        border: none;\n",
       "        /* Needs to be in here for Safari polyfill so background images work as expected. */\n",
       "        background-size: auto;\n",
       "    }\n",
       "    progress:not([value]), progress:not([value])::-webkit-progress-bar {\n",
       "        background: repeating-linear-gradient(45deg, #7e7e7e, #7e7e7e 10px, #5c5c5c 10px, #5c5c5c 20px);\n",
       "    }\n",
       "    .progress-bar-interrupted, .progress-bar-interrupted::-webkit-progress-bar {\n",
       "        background: #F44336;\n",
       "    }\n",
       "</style>\n"
      ],
      "text/plain": [
       "<IPython.core.display.HTML object>"
      ]
     },
     "metadata": {},
     "output_type": "display_data"
    },
    {
     "data": {
      "text/html": [],
      "text/plain": [
       "<IPython.core.display.HTML object>"
      ]
     },
     "metadata": {},
     "output_type": "display_data"
    },
    {
     "data": {
      "text/plain": [
       "('Cat', tensor(0), tensor([1.0000e+00, 1.0373e-07]))"
      ]
     },
     "execution_count": 12,
     "metadata": {},
     "output_type": "execute_result"
    }
   ],
   "source": [
    "learn_inf.predict('catis.jpg')"
   ]
  },
  {
   "cell_type": "code",
   "execution_count": 13,
   "id": "865dcdba",
   "metadata": {},
   "outputs": [
    {
     "data": {
      "application/vnd.jupyter.widget-view+json": {
       "model_id": "6cc294a1ce5b41349c5d81c469ca1a0c",
       "version_major": 2,
       "version_minor": 0
      },
      "text/plain": [
       "FileUpload(value={}, description='Upload')"
      ]
     },
     "metadata": {},
     "output_type": "display_data"
    }
   ],
   "source": [
    "btn_upload = widgets.FileUpload()\n",
    "btn_upload"
   ]
  },
  {
   "cell_type": "code",
   "execution_count": 14,
   "id": "3b121857",
   "metadata": {},
   "outputs": [],
   "source": [
    "output = widgets.Output()\n",
    "classify_btn = widgets.Button(description='Classify')\n",
    "label_prediction = widgets.Label()"
   ]
  },
  {
   "cell_type": "code",
   "execution_count": 15,
   "id": "10b1ef84",
   "metadata": {},
   "outputs": [],
   "source": [
    "def on_click_classify(change):\n",
    "    img = PILImage.create(btn_upload.data[-1])\n",
    "    output.clear_output()\n",
    "    with output: display(img.to_thumb(128,128))\n",
    "    perd,pred_index,probs = learn_inf.predict(img)\n",
    "    label_prediction.value = f'Prediction: {perd}; Probability: {probs[pred_index]:.04f}'\n",
    "\n",
    "\n",
    "classify_btn.on_click(on_click_classify)"
   ]
  },
  {
   "cell_type": "code",
   "execution_count": 16,
   "id": "5841fb53",
   "metadata": {},
   "outputs": [
    {
     "data": {
      "application/vnd.jupyter.widget-view+json": {
       "model_id": "79e9086f357047d0940cf60b2d170ba0",
       "version_major": 2,
       "version_minor": 0
      },
      "text/plain": [
       "Button(description='Classify', style=ButtonStyle())"
      ]
     },
     "metadata": {},
     "output_type": "display_data"
    }
   ],
   "source": [
    "classify_btn"
   ]
  },
  {
   "cell_type": "code",
   "execution_count": 17,
   "id": "ae97d70c",
   "metadata": {},
   "outputs": [
    {
     "data": {
      "application/vnd.jupyter.widget-view+json": {
       "model_id": "c4b9e1cb16df4cd384d38cc83156baca",
       "version_major": 2,
       "version_minor": 0
      },
      "text/plain": [
       "VBox(children=(Label(value='Upload the photo and It will Identify as Dog or Cat'), FileUpload(value={}, descri…"
      ]
     },
     "metadata": {},
     "output_type": "display_data"
    },
    {
     "data": {
      "text/html": [
       "\n",
       "<style>\n",
       "    /* Turns off some styling */\n",
       "    progress {\n",
       "        /* gets rid of default border in Firefox and Opera. */\n",
       "        border: none;\n",
       "        /* Needs to be in here for Safari polyfill so background images work as expected. */\n",
       "        background-size: auto;\n",
       "    }\n",
       "    progress:not([value]), progress:not([value])::-webkit-progress-bar {\n",
       "        background: repeating-linear-gradient(45deg, #7e7e7e, #7e7e7e 10px, #5c5c5c 10px, #5c5c5c 20px);\n",
       "    }\n",
       "    .progress-bar-interrupted, .progress-bar-interrupted::-webkit-progress-bar {\n",
       "        background: #F44336;\n",
       "    }\n",
       "</style>\n"
      ],
      "text/plain": [
       "<IPython.core.display.HTML object>"
      ]
     },
     "metadata": {},
     "output_type": "display_data"
    },
    {
     "data": {
      "text/html": [],
      "text/plain": [
       "<IPython.core.display.HTML object>"
      ]
     },
     "metadata": {},
     "output_type": "display_data"
    }
   ],
   "source": [
    "VBox([widgets.Label('Upload the photo and It will Identify as Dog or Cat'), btn_upload,classify_btn,output,label_prediction])"
   ]
  },
  {
   "cell_type": "code",
   "execution_count": 10,
   "id": "59381f11",
   "metadata": {},
   "outputs": [
    {
     "name": "stdout",
     "output_type": "stream",
     "text": [
      "Requirement already satisfied: voila in c:\\users\\samarth\\anaconda3\\lib\\site-packages (0.4.0)\n",
      "Requirement already satisfied: jupyter-server<2.0.0,>=1.18 in c:\\users\\samarth\\anaconda3\\lib\\site-packages (from voila) (1.23.4)\n",
      "Requirement already satisfied: nbconvert<8,>=6.4.5 in c:\\users\\samarth\\anaconda3\\lib\\site-packages (from voila) (6.5.4)\n",
      "Requirement already satisfied: jupyterlab-server<3,>=2.3.0 in c:\\users\\samarth\\anaconda3\\lib\\site-packages (from voila) (2.19.0)\n",
      "Requirement already satisfied: traitlets<6,>=5.0.3 in c:\\users\\samarth\\anaconda3\\lib\\site-packages (from voila) (5.7.1)\n",
      "Requirement already satisfied: jupyter-core>=4.11.0 in c:\\users\\samarth\\anaconda3\\lib\\site-packages (from voila) (5.2.0)\n",
      "Requirement already satisfied: jupyter-client<=7.4.1,>=6.1.3 in c:\\users\\samarth\\anaconda3\\lib\\site-packages (from voila) (7.3.4)\n",
      "Requirement already satisfied: websockets>=9.0 in c:\\users\\samarth\\anaconda3\\lib\\site-packages (from voila) (11.0.2)\n",
      "Requirement already satisfied: nbclient<0.8,>=0.4.0 in c:\\users\\samarth\\anaconda3\\lib\\site-packages (from voila) (0.5.13)\n",
      "Requirement already satisfied: entrypoints in c:\\users\\samarth\\anaconda3\\lib\\site-packages (from jupyter-client<=7.4.1,>=6.1.3->voila) (0.4)\n",
      "Requirement already satisfied: tornado>=6.0 in c:\\users\\samarth\\anaconda3\\lib\\site-packages (from jupyter-client<=7.4.1,>=6.1.3->voila) (6.1)\n",
      "Requirement already satisfied: pyzmq>=23.0 in c:\\users\\samarth\\anaconda3\\lib\\site-packages (from jupyter-client<=7.4.1,>=6.1.3->voila) (23.2.0)\n",
      "Requirement already satisfied: nest-asyncio>=1.5.4 in c:\\users\\samarth\\anaconda3\\lib\\site-packages (from jupyter-client<=7.4.1,>=6.1.3->voila) (1.5.6)\n",
      "Requirement already satisfied: python-dateutil>=2.8.2 in c:\\users\\samarth\\anaconda3\\lib\\site-packages (from jupyter-client<=7.4.1,>=6.1.3->voila) (2.8.2)\n",
      "Requirement already satisfied: pywin32>=1.0 in c:\\users\\samarth\\anaconda3\\lib\\site-packages (from jupyter-core>=4.11.0->voila) (305.1)\n",
      "Requirement already satisfied: platformdirs>=2.5 in c:\\users\\samarth\\anaconda3\\lib\\site-packages (from jupyter-core>=4.11.0->voila) (2.5.2)\n",
      "Requirement already satisfied: prometheus-client in c:\\users\\samarth\\anaconda3\\lib\\site-packages (from jupyter-server<2.0.0,>=1.18->voila) (0.14.1)\n",
      "Requirement already satisfied: nbformat>=5.2.0 in c:\\users\\samarth\\anaconda3\\lib\\site-packages (from jupyter-server<2.0.0,>=1.18->voila) (5.7.0)\n",
      "Requirement already satisfied: websocket-client in c:\\users\\samarth\\anaconda3\\lib\\site-packages (from jupyter-server<2.0.0,>=1.18->voila) (0.58.0)\n",
      "Requirement already satisfied: pywinpty in c:\\users\\samarth\\anaconda3\\lib\\site-packages (from jupyter-server<2.0.0,>=1.18->voila) (2.0.10)\n",
      "Requirement already satisfied: packaging in c:\\users\\samarth\\anaconda3\\lib\\site-packages (from jupyter-server<2.0.0,>=1.18->voila) (22.0)\n",
      "Requirement already satisfied: argon2-cffi in c:\\users\\samarth\\anaconda3\\lib\\site-packages (from jupyter-server<2.0.0,>=1.18->voila) (21.3.0)\n",
      "Requirement already satisfied: jinja2 in c:\\users\\samarth\\anaconda3\\lib\\site-packages (from jupyter-server<2.0.0,>=1.18->voila) (3.1.2)\n",
      "Requirement already satisfied: terminado>=0.8.3 in c:\\users\\samarth\\anaconda3\\lib\\site-packages (from jupyter-server<2.0.0,>=1.18->voila) (0.17.1)\n",
      "Requirement already satisfied: Send2Trash in c:\\users\\samarth\\anaconda3\\lib\\site-packages (from jupyter-server<2.0.0,>=1.18->voila) (1.8.0)\n",
      "Requirement already satisfied: anyio<4,>=3.1.0 in c:\\users\\samarth\\anaconda3\\lib\\site-packages (from jupyter-server<2.0.0,>=1.18->voila) (3.5.0)\n",
      "Requirement already satisfied: babel>=2.10 in c:\\users\\samarth\\anaconda3\\lib\\site-packages (from jupyterlab-server<3,>=2.3.0->voila) (2.11.0)\n",
      "Requirement already satisfied: jsonschema>=4.17.3 in c:\\users\\samarth\\anaconda3\\lib\\site-packages (from jupyterlab-server<3,>=2.3.0->voila) (4.17.3)\n",
      "Requirement already satisfied: json5>=0.9.0 in c:\\users\\samarth\\anaconda3\\lib\\site-packages (from jupyterlab-server<3,>=2.3.0->voila) (0.9.6)\n",
      "Requirement already satisfied: requests>=2.28 in c:\\users\\samarth\\anaconda3\\lib\\site-packages (from jupyterlab-server<3,>=2.3.0->voila) (2.28.2)\n",
      "Requirement already satisfied: beautifulsoup4 in c:\\users\\samarth\\anaconda3\\lib\\site-packages (from nbconvert<8,>=6.4.5->voila) (4.11.1)\n",
      "Requirement already satisfied: MarkupSafe>=2.0 in c:\\users\\samarth\\anaconda3\\lib\\site-packages (from nbconvert<8,>=6.4.5->voila) (2.1.1)\n",
      "Requirement already satisfied: pygments>=2.4.1 in c:\\users\\samarth\\anaconda3\\lib\\site-packages (from nbconvert<8,>=6.4.5->voila) (2.11.2)\n",
      "Requirement already satisfied: pandocfilters>=1.4.1 in c:\\users\\samarth\\anaconda3\\lib\\site-packages (from nbconvert<8,>=6.4.5->voila) (1.5.0)\n",
      "Requirement already satisfied: defusedxml in c:\\users\\samarth\\anaconda3\\lib\\site-packages (from nbconvert<8,>=6.4.5->voila) (0.7.1)\n",
      "Requirement already satisfied: jupyterlab-pygments in c:\\users\\samarth\\anaconda3\\lib\\site-packages (from nbconvert<8,>=6.4.5->voila) (0.1.2)\n",
      "Requirement already satisfied: tinycss2 in c:\\users\\samarth\\anaconda3\\lib\\site-packages (from nbconvert<8,>=6.4.5->voila) (1.2.1)\n",
      "Requirement already satisfied: bleach in c:\\users\\samarth\\anaconda3\\lib\\site-packages (from nbconvert<8,>=6.4.5->voila) (4.1.0)\n",
      "Requirement already satisfied: mistune<2,>=0.8.1 in c:\\users\\samarth\\anaconda3\\lib\\site-packages (from nbconvert<8,>=6.4.5->voila) (0.8.4)\n",
      "Requirement already satisfied: lxml in c:\\users\\samarth\\anaconda3\\lib\\site-packages (from nbconvert<8,>=6.4.5->voila) (4.9.1)\n",
      "Requirement already satisfied: idna>=2.8 in c:\\users\\samarth\\anaconda3\\lib\\site-packages (from anyio<4,>=3.1.0->jupyter-server<2.0.0,>=1.18->voila) (3.4)\n",
      "Requirement already satisfied: sniffio>=1.1 in c:\\users\\samarth\\anaconda3\\lib\\site-packages (from anyio<4,>=3.1.0->jupyter-server<2.0.0,>=1.18->voila) (1.2.0)\n",
      "Requirement already satisfied: pytz>=2015.7 in c:\\users\\samarth\\anaconda3\\lib\\site-packages (from babel>=2.10->jupyterlab-server<3,>=2.3.0->voila) (2022.7)\n",
      "Requirement already satisfied: attrs>=17.4.0 in c:\\users\\samarth\\anaconda3\\lib\\site-packages (from jsonschema>=4.17.3->jupyterlab-server<3,>=2.3.0->voila) (22.1.0)\n",
      "Requirement already satisfied: pyrsistent!=0.17.0,!=0.17.1,!=0.17.2,>=0.14.0 in c:\\users\\samarth\\anaconda3\\lib\\site-packages (from jsonschema>=4.17.3->jupyterlab-server<3,>=2.3.0->voila) (0.18.0)\n",
      "Requirement already satisfied: fastjsonschema in c:\\users\\samarth\\anaconda3\\lib\\site-packages (from nbformat>=5.2.0->jupyter-server<2.0.0,>=1.18->voila) (2.16.2)\n",
      "Requirement already satisfied: six>=1.5 in c:\\users\\samarth\\anaconda3\\lib\\site-packages (from python-dateutil>=2.8.2->jupyter-client<=7.4.1,>=6.1.3->voila) (1.16.0)\n",
      "Requirement already satisfied: urllib3<1.27,>=1.21.1 in c:\\users\\samarth\\anaconda3\\lib\\site-packages (from requests>=2.28->jupyterlab-server<3,>=2.3.0->voila) (1.26.14)\n",
      "Requirement already satisfied: charset-normalizer<4,>=2 in c:\\users\\samarth\\anaconda3\\lib\\site-packages (from requests>=2.28->jupyterlab-server<3,>=2.3.0->voila) (2.0.4)\n",
      "Requirement already satisfied: certifi>=2017.4.17 in c:\\users\\samarth\\anaconda3\\lib\\site-packages (from requests>=2.28->jupyterlab-server<3,>=2.3.0->voila) (2022.12.7)\n",
      "Requirement already satisfied: argon2-cffi-bindings in c:\\users\\samarth\\anaconda3\\lib\\site-packages (from argon2-cffi->jupyter-server<2.0.0,>=1.18->voila) (21.2.0)\n",
      "Requirement already satisfied: soupsieve>1.2 in c:\\users\\samarth\\anaconda3\\lib\\site-packages (from beautifulsoup4->nbconvert<8,>=6.4.5->voila) (2.3.2.post1)\n",
      "Requirement already satisfied: webencodings in c:\\users\\samarth\\anaconda3\\lib\\site-packages (from bleach->nbconvert<8,>=6.4.5->voila) (0.5.1)\n",
      "Requirement already satisfied: cffi>=1.0.1 in c:\\users\\samarth\\anaconda3\\lib\\site-packages (from argon2-cffi-bindings->argon2-cffi->jupyter-server<2.0.0,>=1.18->voila) (1.15.1)\n",
      "Requirement already satisfied: pycparser in c:\\users\\samarth\\anaconda3\\lib\\site-packages (from cffi>=1.0.1->argon2-cffi-bindings->argon2-cffi->jupyter-server<2.0.0,>=1.18->voila) (2.21)\n"
     ]
    },
    {
     "name": "stderr",
     "output_type": "stream",
     "text": [
      "Enabling: voila\n",
      "- Writing config: C:\\Users\\Samarth\\anaconda3\\etc\\jupyter\n",
      "    - Validating...\n",
      "      voila 0.4.0 ok\n"
     ]
    }
   ],
   "source": [
    "!pip install voila\n",
    "!jupyter serverextension enable voila --sys-prefix"
   ]
  },
  {
   "cell_type": "code",
   "execution_count": 9,
   "id": "f031bf7d",
   "metadata": {},
   "outputs": [
    {
     "ename": "ModuleNotFoundError",
     "evalue": "No module named 'nbdev'",
     "output_type": "error",
     "traceback": [
      "\u001b[1;31m---------------------------------------------------------------------------\u001b[0m",
      "\u001b[1;31mModuleNotFoundError\u001b[0m                       Traceback (most recent call last)",
      "Cell \u001b[1;32mIn[9], line 1\u001b[0m\n\u001b[1;32m----> 1\u001b[0m \u001b[38;5;28;01mfrom\u001b[39;00m \u001b[38;5;21;01mnbdev\u001b[39;00m\u001b[38;5;21;01m.\u001b[39;00m\u001b[38;5;21;01mexport\u001b[39;00m \u001b[38;5;28;01mimport\u001b[39;00m notebook2script\n",
      "\u001b[1;31mModuleNotFoundError\u001b[0m: No module named 'nbdev'"
     ]
    }
   ],
   "source": []
  },
  {
   "cell_type": "code",
   "execution_count": 10,
   "id": "fee8c2db",
   "metadata": {},
   "outputs": [
    {
     "name": "stdout",
     "output_type": "stream",
     "text": [
      "Collecting nbdev\n",
      "  Downloading nbdev-2.3.12-py3-none-any.whl (64 kB)\n",
      "     ---------------------------------------- 64.8/64.8 kB ? eta 0:00:00\n",
      "Requirement already satisfied: PyYAML in c:\\users\\samarth\\anaconda3\\lib\\site-packages (from nbdev) (6.0)\n",
      "Requirement already satisfied: asttokens in c:\\users\\samarth\\anaconda3\\lib\\site-packages (from nbdev) (2.0.5)\n",
      "Requirement already satisfied: watchdog in c:\\users\\samarth\\anaconda3\\lib\\site-packages (from nbdev) (2.1.6)\n",
      "Collecting astunparse\n",
      "  Downloading astunparse-1.6.3-py2.py3-none-any.whl (12 kB)\n",
      "Collecting execnb>=0.1.4\n",
      "  Downloading execnb-0.1.5-py3-none-any.whl (13 kB)\n",
      "Collecting ghapi>=1.0.3\n",
      "  Downloading ghapi-1.0.3-py3-none-any.whl (58 kB)\n",
      "     ---------------------------------------- 58.1/58.1 kB ? eta 0:00:00\n",
      "Requirement already satisfied: fastcore>=1.5.27 in c:\\users\\samarth\\anaconda3\\lib\\site-packages (from nbdev) (1.5.29)\n",
      "Requirement already satisfied: ipython in c:\\users\\samarth\\anaconda3\\lib\\site-packages (from execnb>=0.1.4->nbdev) (8.10.0)\n",
      "Requirement already satisfied: packaging in c:\\users\\samarth\\anaconda3\\lib\\site-packages (from fastcore>=1.5.27->nbdev) (22.0)\n",
      "Requirement already satisfied: pip in c:\\users\\samarth\\anaconda3\\lib\\site-packages (from fastcore>=1.5.27->nbdev) (22.3.1)\n",
      "Requirement already satisfied: six in c:\\users\\samarth\\anaconda3\\lib\\site-packages (from asttokens->nbdev) (1.16.0)\n",
      "Requirement already satisfied: wheel<1.0,>=0.23.0 in c:\\users\\samarth\\anaconda3\\lib\\site-packages (from astunparse->nbdev) (0.38.4)\n",
      "Requirement already satisfied: stack-data in c:\\users\\samarth\\anaconda3\\lib\\site-packages (from ipython->execnb>=0.1.4->nbdev) (0.2.0)\n",
      "Requirement already satisfied: backcall in c:\\users\\samarth\\anaconda3\\lib\\site-packages (from ipython->execnb>=0.1.4->nbdev) (0.2.0)\n",
      "Requirement already satisfied: matplotlib-inline in c:\\users\\samarth\\anaconda3\\lib\\site-packages (from ipython->execnb>=0.1.4->nbdev) (0.1.6)\n",
      "Requirement already satisfied: prompt-toolkit<3.1.0,>=3.0.30 in c:\\users\\samarth\\anaconda3\\lib\\site-packages (from ipython->execnb>=0.1.4->nbdev) (3.0.36)\n",
      "Requirement already satisfied: pygments>=2.4.0 in c:\\users\\samarth\\anaconda3\\lib\\site-packages (from ipython->execnb>=0.1.4->nbdev) (2.11.2)\n",
      "Requirement already satisfied: decorator in c:\\users\\samarth\\anaconda3\\lib\\site-packages (from ipython->execnb>=0.1.4->nbdev) (5.1.1)\n",
      "Requirement already satisfied: jedi>=0.16 in c:\\users\\samarth\\anaconda3\\lib\\site-packages (from ipython->execnb>=0.1.4->nbdev) (0.18.1)\n",
      "Requirement already satisfied: pickleshare in c:\\users\\samarth\\anaconda3\\lib\\site-packages (from ipython->execnb>=0.1.4->nbdev) (0.7.5)\n",
      "Requirement already satisfied: colorama in c:\\users\\samarth\\anaconda3\\lib\\site-packages (from ipython->execnb>=0.1.4->nbdev) (0.4.6)\n",
      "Requirement already satisfied: traitlets>=5 in c:\\users\\samarth\\anaconda3\\lib\\site-packages (from ipython->execnb>=0.1.4->nbdev) (5.7.1)\n",
      "Requirement already satisfied: parso<0.9.0,>=0.8.0 in c:\\users\\samarth\\anaconda3\\lib\\site-packages (from jedi>=0.16->ipython->execnb>=0.1.4->nbdev) (0.8.3)\n",
      "Requirement already satisfied: wcwidth in c:\\users\\samarth\\anaconda3\\lib\\site-packages (from prompt-toolkit<3.1.0,>=3.0.30->ipython->execnb>=0.1.4->nbdev) (0.2.5)\n",
      "Requirement already satisfied: executing in c:\\users\\samarth\\anaconda3\\lib\\site-packages (from stack-data->ipython->execnb>=0.1.4->nbdev) (0.8.3)\n",
      "Requirement already satisfied: pure-eval in c:\\users\\samarth\\anaconda3\\lib\\site-packages (from stack-data->ipython->execnb>=0.1.4->nbdev) (0.2.2)\n",
      "Installing collected packages: astunparse, ghapi, execnb, nbdev\n",
      "Successfully installed astunparse-1.6.3 execnb-0.1.5 ghapi-1.0.3 nbdev-2.3.12\n"
     ]
    }
   ],
   "source": []
  },
  {
   "cell_type": "code",
   "execution_count": null,
   "id": "6587a565",
   "metadata": {},
   "outputs": [],
   "source": []
  }
 ],
 "metadata": {
  "kernelspec": {
   "display_name": "Python 3 (ipykernel)",
   "language": "python",
   "name": "python3"
  },
  "language_info": {
   "codemirror_mode": {
    "name": "ipython",
    "version": 3
   },
   "file_extension": ".py",
   "mimetype": "text/x-python",
   "name": "python",
   "nbconvert_exporter": "python",
   "pygments_lexer": "ipython3",
   "version": "3.10.9"
  }
 },
 "nbformat": 4,
 "nbformat_minor": 5
}
